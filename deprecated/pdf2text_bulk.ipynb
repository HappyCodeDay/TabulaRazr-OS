{
 "cells": [
  {
   "cell_type": "code",
   "execution_count": null,
   "metadata": {
    "collapsed": false
   },
   "outputs": [],
   "source": [
    "!pwd"
   ]
  },
  {
   "cell_type": "code",
   "execution_count": 7,
   "metadata": {
    "collapsed": false
   },
   "outputs": [
    {
     "name": "stdout",
     "output_type": "stream",
     "text": [
      "0/4 pdftotext -enc UTF-8 -layout pdf/EA716610-EA562590-EA958701.pdf txt/EA716610-EA562590-EA958701.pdf.txt\n",
      "1/4 pdftotext -enc UTF-8 -layout pdf/EP753324-ER508056-ER910760.pdf txt/EP753324-ER508056-ER910760.pdf.txt\n",
      "2/4 pdftotext -enc UTF-8 -layout pdf/ER544111-ER421289-ER823264.pdf txt/ER544111-ER421289-ER823264.pdf.txt\n",
      "3/4 pdftotext -enc UTF-8 -layout pdf/ER588705-ER457598-ER860368.pdf txt/ER588705-ER457598-ER860368.pdf.txt\n"
     ]
    }
   ],
   "source": [
    "from __future__ import print_function\n",
    "import re\n",
    "import os\n",
    "import codecs\n",
    "import string\n",
    "\n",
    "PDF_SUBFOLDER = 'pdf'\n",
    "TXT_SUBFOLDER = 'txt'\n",
    "\n",
    "def create_path(path):\n",
    "    try: \n",
    "        os.makedirs(path)\n",
    "    except OSError:\n",
    "        if not os.path.isdir(path):\n",
    "            raise    \n",
    "\n",
    "#Convert all pdfs\n",
    "files = os.listdir(PDF_SUBFOLDER)\n",
    "create_path(os.path.join(TXT_SUBFOLDER))\n",
    "\n",
    "for i,f in enumerate(files):\n",
    "\n",
    "    pdf_path = os.path.join(PDF_SUBFOLDER, f)\n",
    "    txt_path = os.path.join(TXT_SUBFOLDER, f+'.txt')\n",
    "    \n",
    "    if not os.path.isfile(txt_path):\n",
    "        #Layout preservation crucial to maintain clues about tabular data\n",
    "        cmd = \"pdftotext -enc UTF-8 -layout %s %s\" % (pdf_path, txt_path)\n",
    "        print ('%d/%d %s' % (i, len(files), cmd))\n",
    "        os.system(cmd)\n",
    "    else:\n",
    "        print ('skipping %s, already exists.' % (pdf_path, ))"
   ]
  },
  {
   "cell_type": "code",
   "execution_count": null,
   "metadata": {
    "collapsed": true
   },
   "outputs": [],
   "source": []
  }
 ],
 "metadata": {
  "kernelspec": {
   "display_name": "Python 2",
   "language": "python",
   "name": "python2"
  },
  "language_info": {
   "codemirror_mode": {
    "name": "ipython",
    "version": 2
   },
   "file_extension": ".py",
   "mimetype": "text/x-python",
   "name": "python",
   "nbconvert_exporter": "python",
   "pygments_lexer": "ipython2",
   "version": "2.7.10"
  }
 },
 "nbformat": 4,
 "nbformat_minor": 0
}
