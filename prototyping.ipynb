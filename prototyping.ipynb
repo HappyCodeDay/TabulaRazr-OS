{
 "cells": [
  {
   "cell_type": "code",
   "execution_count": null,
   "metadata": {
    "collapsed": true
   },
   "outputs": [],
   "source": [
    "#TabulaRazr - specific to calculate  - TABLE Parser\n",
    "#Infers a table with arbitrary number of columns from reoccuring patterns in text lines\n",
    "#(c) Alexander Hirner 2016, no redistribution without permission\n",
    "#Contributions: ____ (refactoring), UI styling (), ....\n",
    "\n",
    "\n",
    "#Main assumptions Table identificatin:\n",
    "#1) each row is either in one line or not a row at all\n",
    "#2) each column features at least one number (=dollar amount)\n",
    "#2a) each column features at least one date-like string [for time-series only]\n",
    "#3) a table exists if rows are in narrow consecutive order and share similarities --> scoring algo [DONE] \n",
    "#4) each column is separated by more than x consecutive whitespace indicators (e.g. '  ' or '..')\n",
    "\n",
    "#Feature List Todo:\n",
    "#1) Acknowledge footnotes / make lower meta-data available\n",
    "#2) make delimiter length smartly dependent on number of columns (possible iterative approach)\n",
    "#3) improve captioning: expand non canonical values in tables [DONE] .. but not to the extent how types match up  --> use this to further\n",
    "## delineate between caption and headers\n",
    "#4) UI: parameterize extraction on the show page on the fly\n",
    "#5) deeper type inference on token level: type complex [DONE], subtype header (centered, capitalized), \n",
    "## subtype page nr., type free flow [DONE, need paragraph]\n",
    "#6) Respect negative values with potential '-' for numerical values\n",
    "#7) \n",
    "#8) classify tables with keywords (Muni Bonds) and unsupervised clustering (Hackathon)\n",
    "#9) Restructure folder and URI around MD5 hash (http://stackoverflow.com/questions/24570066/calculate-md5-from-werkzeug-datastructures-filestorage-without-saving-the-object)"
   ]
  },
  {
   "cell_type": "code",
   "execution_count": 1,
   "metadata": {
    "collapsed": false
   },
   "outputs": [],
   "source": [
    "from backend import *\n",
    "import os"
   ]
  },
  {
   "cell_type": "code",
   "execution_count": 2,
   "metadata": {
    "collapsed": false
   },
   "outputs": [
    {
     "name": "stdout",
     "output_type": "stream",
     "text": [
      "('penalty', 1.0)\n",
      "0.27\n",
      "('penalty', 1.0)\n",
      "0.27\n",
      "('penalty', 1.0)\n",
      "None\n"
     ]
    }
   ],
   "source": [
    "from fuzzywuzzy import fuzz\n",
    "#Filter and Rank Tables upon string data:\n",
    "\n",
    "#print (fuzz.partial_ratio(\"this is a test!\", \"this text is\"))\n",
    "\n",
    "\n",
    "#print (fuzzy_str_match(\"aaaaaaaaaa text this\", \"this test is\"))\n",
    "\n",
    "print (fuzzy_str_match(\"USES OF FUNDS\", \"TABLE OF CONTENTS\"))\n",
    "print (fuzzy_str_match(\"USES OF FUNDS\", \"Note 5 - Assets Limited as to Use\"))\n",
    "print (fuzzy_str_match(\"USES OF FUNDS\", \"FINANCIAL STATEMENT AMOUNTS - Continued\"))\n"
   ]
  },
  {
   "cell_type": "code",
   "execution_count": 8,
   "metadata": {
    "collapsed": false
   },
   "outputs": [
    {
     "name": "stdout",
     "output_type": "stream",
     "text": [
      "('penalty', 0.125)\n",
      "None\n",
      "('penalty', 0.75)\n",
      "0.3225\n",
      "('penalty', 0.0)\n",
      "None\n",
      "('penalty', 1.0)\n",
      "None\n",
      "False\n"
     ]
    }
   ],
   "source": [
    "print (fuzzy_str_match(\"Maturity\", \"ii\"))\n",
    "#print (fuzz.partial_ratio(\"Maturity\", \"i\"))\n",
    "print (fuzzy_str_match(\"Maturity\", \"Matarit\"))\n",
    "print (fuzzy_str_match(\"Maturity\", \"i\"))\n",
    "print (fuzzy_str_match(\"Maturity\", \"     i   \"))\n",
    "\n",
    "\n",
    "\n",
    "print (\"Maturity\".lower() in \"i\".lower())"
   ]
  },
  {
   "cell_type": "code",
   "execution_count": null,
   "metadata": {
    "collapsed": false
   },
   "outputs": [],
   "source": [
    "def run_from_ipython():\n",
    "    try:\n",
    "        __IPYTHON__\n",
    "        return True\n",
    "    except NameError:\n",
    "        return False\n",
    "\n",
    "if run_from_ipython():\n",
    "    app.run(host='0.0.0.0', port = 8080)\n",
    "else:\n",
    "    PORT = int(os.getenv('PORT', 8080))\n",
    "    app.run(debug=True, host='0.0.0.0', port = PORT)"
   ]
  },
  {
   "cell_type": "code",
   "execution_count": null,
   "metadata": {
    "collapsed": true
   },
   "outputs": [],
   "source": []
  }
 ],
 "metadata": {
  "kernelspec": {
   "display_name": "Python 2",
   "language": "python",
   "name": "python2"
  },
  "language_info": {
   "codemirror_mode": {
    "name": "ipython",
    "version": 2
   },
   "file_extension": ".py",
   "mimetype": "text/x-python",
   "name": "python",
   "nbconvert_exporter": "python",
   "pygments_lexer": "ipython2",
   "version": "2.7.10"
  }
 },
 "nbformat": 4,
 "nbformat_minor": 0
}
