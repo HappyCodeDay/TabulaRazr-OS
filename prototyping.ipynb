{
 "cells": [
  {
   "cell_type": "code",
   "execution_count": null,
   "metadata": {
    "collapsed": true
   },
   "outputs": [],
   "source": [
    "#TabulaRazr - specific to calculate  - TABLE Parser\n",
    "#Infers a table with arbitrary number of columns from reoccuring patterns in text lines\n",
    "#(c) Alexander Hirner 2016, no redistribution without permission\n",
    "#Contributions: ____ (refactoring), UI styling (), ....\n",
    "\n",
    "\n",
    "#Main assumptions Table identificatin:\n",
    "#1) each row is either in one line or not a row at all\n",
    "#2) each column features at least one number (=dollar amount)\n",
    "#2a) each column features at least one date-like string [for time-series only]\n",
    "#3) a table exists if rows are in narrow consecutive order and share similarities --> scoring algo [DONE] \n",
    "#4) each column is separated by more than x consecutive whitespace indicators (e.g. '  ' or '..')\n",
    "\n",
    "#Feature List Todo:\n",
    "#1) Acknowledge footnotes / make lower meta-data available\n",
    "#2) make delimiter length smartly dependent on number of columns (possible iterative approach)\n",
    "#3) improve captioning: expand non canonical values in tables [DONE] .. but not to the extent how types match up  --> use this to further\n",
    "## delineate between caption and headers\n",
    "#4) UI: parameterize extraction on the show page on the fly\n",
    "#5) deeper type inference on token level: type complex [DONE], subtype header (centered, capitalized), \n",
    "## subtype page nr., type free flow [DONE, need paragraph]\n",
    "#6) Respect negative values with potential '-' for numerical values\n",
    "#7) \n",
    "#8) classify tables with keywords (Muni Bonds) and unsupervised clustering (Hackathon)\n",
    "#9) Restructure folder and URI around MD5 hash (http://stackoverflow.com/questions/24570066/calculate-md5-from-werkzeug-datastructures-filestorage-without-saving-the-object)"
   ]
  },
  {
   "cell_type": "code",
   "execution_count": 1,
   "metadata": {
    "collapsed": false
   },
   "outputs": [],
   "source": [
    "from backend import *\n",
    "from data_query import *\n",
    "import os"
   ]
  },
  {
   "cell_type": "code",
   "execution_count": 79,
   "metadata": {
    "collapsed": false
   },
   "outputs": [
    {
     "name": "stdout",
     "output_type": "stream",
     "text": [
      "('fuzzy_partial of USES OF FUNDS vs USES OF FUNDS * penalty 1.00', 1.0)\n",
      "1.0\n",
      "('fuzzy_partial of USES OF FUNDS vs USES of FUNDS * penalty 1.00', 0.85)\n",
      "0.9334\n",
      "('fuzzy_partial of USES OF FUNDS vs uses of funds * penalty 1.00', 0.15)\n",
      "('fuzzy_partial lower_case of USES OF FUNDS vs uses of funds * penalty 1.00', 1.0)\n",
      "0.667\n",
      "('fuzzy_partial of USES OF FUNDS vs USES which include other FUNDS * penalty 1.00', 0.54)\n",
      "('fuzzy_partial lower_case of USES OF FUNDS vs USES which include other FUNDS * penalty 1.00', 0.69)\n",
      "('fuzzy_partial token_sort_lower_case of USES OF FUNDS vs USES which include other FUNDS * penalty 1.00', 0.62)\n",
      "0.16528\n",
      "('fuzzy_partial of USES OF FUNDS vs Note 5 - Assets Limited as to Use * penalty 1.00', 0.23)\n",
      "('fuzzy_partial lower_case of USES OF FUNDS vs Note 5 - Assets Limited as to Use * penalty 1.00', 0.54)\n",
      "('fuzzy_partial token_sort_lower_case of USES OF FUNDS vs Note 5 - Assets Limited as to Use * penalty 1.00', 0.56)\n",
      "0.13864\n",
      "('fuzzy_partial of USES OF FUNDS vs FINANCIAL STATEMENT AMOUNTS - Continued * penalty 1.00', 0.46)\n",
      "('fuzzy_partial lower_case of USES OF FUNDS vs FINANCIAL STATEMENT AMOUNTS - Continued * penalty 1.00', 0.46)\n",
      "('fuzzy_partial token_sort_lower_case of USES OF FUNDS vs FINANCIAL STATEMENT AMOUNTS - Continued * penalty 1.00', 0.54)\n",
      "0.12976\n",
      "('fuzzy_partial of USES OF FUNDS vs FUNDS OF USES * penalty 1.00', 0.64)\n",
      "('fuzzy_partial lower_case of USES OF FUNDS vs FUNDS OF USES * penalty 1.00', 0.64)\n",
      "('fuzzy_partial token_sort_lower_case of USES OF FUNDS vs FUNDS OF USES * penalty 1.00', 1.0)\n",
      "0.334\n",
      "('fuzzy_partial of USES OF FUNDS vs TABLE OF CONTENTS * penalty 1.00', 0.54)\n",
      "('fuzzy_partial lower_case of USES OF FUNDS vs TABLE OF CONTENTS * penalty 1.00', 0.54)\n",
      "('fuzzy_partial token_sort_lower_case of USES OF FUNDS vs TABLE OF CONTENTS * penalty 1.00', 0.54)\n",
      "0.12976\n",
      "('fuzzy_partial of Debt Service vs Total Periodic Debt Service * penalty 1.00', 1.0)\n",
      "1.0\n"
     ]
    }
   ],
   "source": [
    "from fuzzywuzzy import fuzz\n",
    "#print (fuzz.partial_ratio(\"this is a test!\", \"this text is\"))\n",
    "#print (fuzz.partial_ratio(\"USES OF FUNDS\", \"USES from FUNDS\"))\n",
    "#print (fuzzy_str_match(\"aaaaaaaaaa text this\", \"this test is\"))\n",
    "\n",
    "print (fuzzy_str_match(\"USES OF FUNDS\", \"USES OF FUNDS\"))\n",
    "print (fuzzy_str_match(\"USES OF FUNDS\", \"USES of FUNDS\"))\n",
    "print (fuzzy_str_match(\"USES OF FUNDS\", \"uses of funds\"))\n",
    "print (fuzzy_str_match(\"USES OF FUNDS\", \"USES which include other FUNDS\"))\n",
    "\n",
    "\n",
    "print (fuzzy_str_match(\"USES OF FUNDS\", \"Note 5 - Assets Limited as to Use\"))\n",
    "print (fuzzy_str_match(\"USES OF FUNDS\", \"FINANCIAL STATEMENT AMOUNTS - Continued\"))\n",
    "\n",
    "print (fuzzy_str_match(\"USES OF FUNDS\", \"FUNDS OF USES\"))\n",
    "\n",
    "\n",
    "print (fuzzy_str_match(\"USES OF FUNDS\", \"TABLE OF CONTENTS\"))\n",
    "\n",
    "print (fuzzy_str_match(\"Debt Service\", \"Total Periodic Debt Service\"))\n",
    "\n",
    "#print (fuzzy_str_match(\"USES OF FUNDS\", \"Note 5 - Assets Limited as to Use\"))\n",
    "#print (fuzzy_str_match(\"USES OF FUNDS\", \"FINANCIAL STATEMENT AMOUNTS - Continued\"))\n"
   ]
  },
  {
   "cell_type": "code",
   "execution_count": 64,
   "metadata": {
    "collapsed": false
   },
   "outputs": [
    {
     "name": "stdout",
     "output_type": "stream",
     "text": [
      "('fuzzy_partial of Maturity vs ii * penalty 0.25', 0.125)\n",
      "('fuzzy_partial lower_case of Maturity vs ii * penalty 0.25', 0.125)\n",
      "('fuzzy_partial token_sort_lower_case of Maturity vs ii * penalty 0.25', 0.125)\n",
      "None\n",
      "('fuzzy_partial of Maturity vs Matarit * penalty 0.88', 0.7525)\n",
      "0.89011\n",
      "('fuzzy_partial of Maturity vs i * penalty 0.12', 0.125)\n",
      "('fuzzy_partial lower_case of Maturity vs i * penalty 0.12', 0.125)\n",
      "('fuzzy_partial token_sort_lower_case of Maturity vs i * penalty 0.12', 0.125)\n",
      "None\n",
      "('fuzzy_partial of Maturity vs      i    * penalty 0.12', 0.01625)\n",
      "('fuzzy_partial lower_case of Maturity vs      i    * penalty 0.12', 0.01625)\n",
      "('fuzzy_partial token_sort_lower_case of Maturity vs      i    * penalty 0.12', 0.01625)\n",
      "None\n",
      "False\n"
     ]
    }
   ],
   "source": [
    "print (fuzzy_str_match(\"Maturity\", \"ii\"))\n",
    "#print (fuzz.partial_ratio(\"Maturity\", \"i\"))\n",
    "print (fuzzy_str_match(\"Maturity\", \"Matarit\"))\n",
    "print (fuzzy_str_match(\"Maturity\", \"i\"))\n",
    "print (fuzzy_str_match(\"Maturity\", \"     i   \"))\n",
    "\n",
    "\n",
    "print (\"Maturity\".lower() in \"i\".lower())"
   ]
  }
 ],
 "metadata": {
  "kernelspec": {
   "display_name": "Python 2",
   "language": "python",
   "name": "python2"
  },
  "language_info": {
   "codemirror_mode": {
    "name": "ipython",
    "version": 2
   },
   "file_extension": ".py",
   "mimetype": "text/x-python",
   "name": "python",
   "nbconvert_exporter": "python",
   "pygments_lexer": "ipython2",
   "version": "2.7.10"
  }
 },
 "nbformat": 4,
 "nbformat_minor": 0
}
